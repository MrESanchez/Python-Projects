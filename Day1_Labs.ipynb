{
 "cells": [
  {
   "cell_type": "code",
   "execution_count": 2,
   "metadata": {},
   "outputs": [
    {
     "name": "stdout",
     "output_type": "stream",
     "text": [
      "25\n",
      "68\n",
      "Lion\n"
     ]
    }
   ],
   "source": [
    "# 2 TRY SETTING SOME VARIABLE NAMES \n",
    "#Try setting a variable name for your age and giving it a value\n",
    "Age = 25\n",
    "print(Age)\n",
    "\n",
    "#Choose a variable name for the age of someone in your family\n",
    "#and give it a value, try using a snake case\n",
    "Mums_Age = 68\n",
    "print(Mums_Age)\n",
    "\n",
    "#Choose a variable name for your favourite type of animal and give\n",
    "#it a value remember to use ' ' around the text\n",
    "FavAnimal = 'Lion'\n",
    "print(FavAnimal)\n"
   ]
  },
  {
   "cell_type": "code",
   "execution_count": 4,
   "metadata": {},
   "outputs": [
    {
     "name": "stdout",
     "output_type": "stream",
     "text": [
      "25200\n"
     ]
    }
   ],
   "source": [
    "#3 Calculate the volume of a box you can send through royal mail\n",
    "#as a small parcel\n",
    "#Choose a variable name for the width of the box and give its value\n",
    "SmWidth = 35\n",
    "#Choose a variable name for the length of the box and give its value\n",
    "SmLength = 45\n",
    "#Choose a variable name for the depth of the box and give its value\n",
    "SmDepth = 16\n",
    "#Calculate the volume of the box in cm^3\n",
    "Volume = (SmWidth*SmLength*SmDepth)\n",
    "print(Volume)\n",
    "#How would you change your variable names if you then had to \n",
    "#calculate the volume of a medium parcel as well?\n",
    "#using using int"
   ]
  },
  {
   "cell_type": "code",
   "execution_count": 96,
   "metadata": {},
   "outputs": [],
   "source": [
    "choice = input('Do you want to calculate again? True or False: ')\n",
    "while choice == 'True':\n",
    "    operator = (input('Please enter the operator you wish to use: '))\n",
    "    num_1 = int(input('Please enter a value for number 1: '))\n",
    "    num_2 = int(input('Please enter a vlaue for number 2: '))\n",
    "\n",
    "    if operator == '*' or operator == 'x':\n",
    "        result = (num_1) * (num_2)\n",
    "        print(f'{num_1} times {num_2} is {result}')\n",
    "    elif operator == '+':\n",
    "        result = num_1 + num_2\n",
    "        print(f'{num_1} add {num_2} is {result}')\n",
    "    elif operator == '-':\n",
    "        result = num_1 - num_2\n",
    "        print(f'{num_1} minus {num_2} is {result}')\n",
    "    elif operator == '/':\n",
    "        result = num_1 / num_2\n",
    "        print(f'{num_1} divided by {num_2} is {result}')\n",
    "    else:\n",
    "        print('Please type in a valid operator')\n",
    "    choice = input('Do you want to calculate again? True or False: ')\n"
   ]
  },
  {
   "cell_type": "code",
   "execution_count": 28,
   "metadata": {},
   "outputs": [
    {
     "name": "stdout",
     "output_type": "stream",
     "text": [
      "['Edmun', 25, '21.08.1996']\n"
     ]
    }
   ],
   "source": [
    "Name = 'Edmun'\n",
    "Age = 25\n",
    "Dob = '21.08.1996'\n",
    "\n",
    "MyList = [Name, Age, Dob]\n",
    "print(MyList)"
   ]
  },
  {
   "cell_type": "code",
   "execution_count": 19,
   "metadata": {},
   "outputs": [
    {
     "name": "stdout",
     "output_type": "stream",
     "text": [
      "('Edmun', 25, '21.08.1996')\n"
     ]
    }
   ],
   "source": [
    "Name = 'Edmun'\n",
    "Age = 25\n",
    "Dob = '21.08.1996'\n",
    "\n",
    "MyTuple = (Name, Age, Dob)\n",
    "print(MyTuple)"
   ]
  },
  {
   "cell_type": "code",
   "execution_count": 29,
   "metadata": {},
   "outputs": [
    {
     "name": "stdout",
     "output_type": "stream",
     "text": [
      "{'Name': 'Edmun', 'Age': '25', 'Dob': '21.08.1996'}\n"
     ]
    }
   ],
   "source": [
    "MyDictionary = {'Name' : 'Edmun','Age' : '25', 'Dob' : '21.08.1996'}\n",
    "print(MyDictionary)"
   ]
  },
  {
   "cell_type": "code",
   "execution_count": 30,
   "metadata": {},
   "outputs": [
    {
     "name": "stdout",
     "output_type": "stream",
     "text": [
      "{'21.08.1996', 'Edmun', '25'}\n"
     ]
    }
   ],
   "source": [
    "Name ='Edmun'\n",
    "Age = '25'\n",
    "Dob = '21.08.1996'\n",
    "\n",
    "MySet = {Name, Age, Dob}\n",
    "print(MySet)"
   ]
  },
  {
   "cell_type": "code",
   "execution_count": 35,
   "metadata": {},
   "outputs": [
    {
     "name": "stdout",
     "output_type": "stream",
     "text": [
      "['Edmun', '25', '21/08/1996']\n",
      "('Edmun', '25', '21/08/1996')\n",
      "{'name': 'Edmun', 'age': '25', 'date of birth': '21/08/1996'}\n",
      "{'21/08/1996', 'Edmun', '25'}\n",
      "[]\n",
      "['Edmun']\n",
      "['Edmun', '25']\n",
      "['Edmun', '25', '21/08/1996']\n"
     ]
    }
   ],
   "source": [
    "name = input('what is your name: ')\n",
    "age = input('what is your age:')\n",
    "dob = input('what is your dob:')\n",
    "\n",
    "my_list = [name,age, dob]\n",
    "print(my_list)\n",
    "\n",
    "my_tuple = (name, age, dob)\n",
    "print(my_tuple)\n",
    "\n",
    "my_dictionary = {'name' : name, 'age' : age, 'date of birth' : dob}\n",
    "print(my_dictionary)\n",
    "\n",
    "my_set = {name, age, dob}\n",
    "print(my_set)\n",
    "\n",
    "data = []\n",
    "print(data)\n",
    "\n",
    "data.append(name)\n",
    "print(data)\n",
    "data.append(age)\n",
    "print(data)\n",
    "data.append(dob)\n",
    "print(data)"
   ]
  },
  {
   "cell_type": "code",
   "execution_count": 61,
   "metadata": {},
   "outputs": [
    {
     "name": "stdout",
     "output_type": "stream",
     "text": [
      "open 9-12\n"
     ]
    }
   ],
   "source": [
    "day = 'saturday'\n",
    "\n",
    "if day == 'sunday':\n",
    "    print('the shop is closed')\n",
    "elif day == 'saturday':\n",
    "    print('open 9-12')\n",
    "else:\n",
    "    print('open 9-5')\n",
    "    \n",
    "    print('thanks for visiting our website')"
   ]
  },
  {
   "cell_type": "code",
   "execution_count": 47,
   "metadata": {},
   "outputs": [
    {
     "name": "stdout",
     "output_type": "stream",
     "text": [
      "you can ride the big dipper\n"
     ]
    }
   ],
   "source": [
    "height = 117\n",
    "\n",
    "if height >= 117:\n",
    "    print('you can ride the big dipper')\n",
    "elif height >= 90:\n",
    "        print('you can go on some of the rides')\n",
    "else:\n",
    "        print('no big dipper for you')"
   ]
  },
  {
   "cell_type": "code",
   "execution_count": 51,
   "metadata": {},
   "outputs": [
    {
     "name": "stdout",
     "output_type": "stream",
     "text": [
      "no rides for you because of your height\n"
     ]
    }
   ],
   "source": [
    "height = 20\n",
    "shoes = 'boots'\n",
    "\n",
    "if height >= 90:\n",
    "  if shoes == 'flip flops':\n",
    "   print('no rides for you because of your shoes')\n",
    "  else:\n",
    "    print('you can go on the rides')\n",
    "else:\n",
    "    print('no rides for you because of your height')    "
   ]
  },
  {
   "cell_type": "code",
   "execution_count": 60,
   "metadata": {},
   "outputs": [
    {
     "name": "stdout",
     "output_type": "stream",
     "text": [
      "88.88888888888889\n",
      "['distinction']\n"
     ]
    }
   ],
   "source": [
    "mark = 80\n",
    "percentage = (mark/90) * 100\n",
    "print(percentage)\n",
    "\n",
    "grade = []\n",
    "if percentage >= 70:\n",
    "    grade.append('distinction')\n",
    "elif percentage >= 40:\n",
    "    grade.append('pass')\n",
    "else:\n",
    "    grade.append('fail')  \n",
    "\n",
    "print(grade)"
   ]
  },
  {
   "cell_type": "code",
   "execution_count": 31,
   "metadata": {},
   "outputs": [
    {
     "name": "stdout",
     "output_type": "stream",
     "text": [
      "2\n",
      "4\n",
      "6\n",
      "8\n",
      "10\n"
     ]
    }
   ],
   "source": [
    "for number in (1,2,3,4,5):\n",
    "    print(number * 2)"
   ]
  },
  {
   "cell_type": "code",
   "execution_count": 35,
   "metadata": {},
   "outputs": [
    {
     "data": {
      "text/plain": [
       "[1, 2, 3, 4, 5, 6, 7, 8, 9, 10, 11, 12, 13, 14, 15, 16, 17, 18, 19, 20]"
      ]
     },
     "execution_count": 35,
     "metadata": {},
     "output_type": "execute_result"
    }
   ],
   "source": [
    "list(range(1,21))"
   ]
  },
  {
   "cell_type": "code",
   "execution_count": 36,
   "metadata": {},
   "outputs": [
    {
     "name": "stdout",
     "output_type": "stream",
     "text": [
      "iterable 1 answer 3\n",
      "iterable 2 answer 4\n",
      "iterable 3 answer 5\n",
      "iterable 4 answer 6\n",
      "iterable 5 answer 7\n",
      "iterable 6 answer 8\n",
      "iterable 7 answer 9\n",
      "iterable 8 answer 10\n",
      "iterable 9 answer 11\n",
      "iterable 10 answer 12\n",
      "iterable 11 answer 13\n",
      "iterable 12 answer 14\n",
      "iterable 13 answer 15\n",
      "iterable 14 answer 16\n",
      "iterable 15 answer 17\n",
      "iterable 16 answer 18\n",
      "iterable 17 answer 19\n",
      "iterable 18 answer 20\n",
      "iterable 19 answer 21\n",
      "iterable 20 answer 22\n"
     ]
    }
   ],
   "source": [
    "for i in list(range(1,21)):\n",
    "    print('iterable', i, 'answer', i + 2)"
   ]
  },
  {
   "cell_type": "code",
   "execution_count": 41,
   "metadata": {},
   "outputs": [
    {
     "name": "stdout",
     "output_type": "stream",
     "text": [
      "[4.82802, 4.82802, 878.69964, 11.26538, 4.82802, 86.90436, 107.82578, 4.82802, 8.0467]\n"
     ]
    }
   ],
   "source": [
    "distance_miles = [3,3,546,7,3,54,67,3,5]\n",
    "distance_km = []\n",
    "for i in distance_miles:\n",
    "    distance_km.append(i*1.60934)\n",
    "print(distance_km)"
   ]
  },
  {
   "cell_type": "code",
   "execution_count": 40,
   "metadata": {},
   "outputs": [
    {
     "name": "stdout",
     "output_type": "stream",
     "text": [
      "bono is a band member of U2\n",
      "the edge is a band member of U2\n",
      "adam is a band member of U2\n",
      "larry is a band member of U2\n"
     ]
    }
   ],
   "source": [
    "names = ['bono', 'the edge', 'adam', 'larry']\n",
    "for name in names:\n",
    "    print(name, 'is a band member of U2')"
   ]
  },
  {
   "cell_type": "code",
   "execution_count": 48,
   "metadata": {},
   "outputs": [
    {
     "name": "stdout",
     "output_type": "stream",
     "text": [
      "5\n",
      "[7, 5, 8] parcel\n",
      "[10, 10, 1.5] large letter\n",
      "[20, 15, 0.5] small letter\n",
      "[3, 3, 3] parcel\n",
      "[9, 6, 0.7] large letter\n"
     ]
    }
   ],
   "source": [
    "# length, width, depth\n",
    "post=[[7,5,8], [10,10,1.5], [20,15,0.5], [3,3,3], [9,6,0.7]]\n",
    "print(post[0][1])\n",
    "for item in post:\n",
    "    if item[2] <= 0.5:\n",
    "        print(item, 'small letter')\n",
    "    elif item[2] <= 2.5:\n",
    "        print(item, 'large letter')    \n",
    "    elif item[2] > 2.5:\n",
    "        print(item, 'parcel')   "
   ]
  },
  {
   "cell_type": "code",
   "execution_count": 229,
   "metadata": {},
   "outputs": [
    {
     "name": "stdout",
     "output_type": "stream",
     "text": [
      "j\n",
      "e\n",
      "o\n",
      "n\n",
      "i\n",
      "n\n",
      "g\n",
      "o\n",
      "i\n",
      "n\n",
      "s\n",
      "l\n",
      "k\n",
      "n\n",
      "g\n",
      "l\n",
      "k\n",
      "n\n",
      "o\n",
      "i\n",
      "n\n"
     ]
    }
   ],
   "source": [
    "a = 'jeoningoinIslkngIlknoin'\n",
    "for i in range(len(a)):\n",
    "    if a[i].isupper():\n",
    "        continue\n",
    "    print(a[i])\n"
   ]
  },
  {
   "cell_type": "code",
   "execution_count": 64,
   "metadata": {},
   "outputs": [
    {
     "name": "stdout",
     "output_type": "stream",
     "text": [
      "10\n",
      "11\n",
      "12\n",
      "13\n",
      "14\n"
     ]
    }
   ],
   "source": [
    "a = 10\n",
    "while a < 15:\n",
    "    print(a)\n",
    "    a += 1\n",
    "  "
   ]
  },
  {
   "cell_type": "code",
   "execution_count": 60,
   "metadata": {},
   "outputs": [
    {
     "name": "stdout",
     "output_type": "stream",
     "text": [
      "........hello\n",
      ".......hello\n",
      "......hello\n",
      ".....hello\n",
      "....hello\n",
      "...hello\n",
      "..hello\n",
      ".hello\n",
      "hello\n"
     ]
    }
   ],
   "source": [
    "a = '.........hello'\n",
    "while a[0] == '.':\n",
    "    a  = a[1:]\n",
    "    print(a)"
   ]
  },
  {
   "cell_type": "code",
   "execution_count": 85,
   "metadata": {},
   "outputs": [
    {
     "name": "stdout",
     "output_type": "stream",
     "text": [
      "[7, 5, 8] parcel\n",
      "[10, 10, 1.5] large letter\n",
      "[20, 15, 0.5] small letter\n",
      "[3, 3, 3] parcel\n",
      "[9, 6, 0.7] large letter\n"
     ]
    }
   ],
   "source": [
    "post = [[7,5,8], [10,10,1.5], [20,15,0.5], [3,3,3], [9,6,0.7]]\n",
    "for item in post:\n",
    "    if item[2] <= 0.5:\n",
    "        if item[0] <= 24:\n",
    "            if item[1] <= 16.5:\n",
    "                print(item, 'small letter')\n",
    "\n",
    "\n",
    "    elif item[2] <=2.5:\n",
    "        if item[0] <= 35.3:\n",
    "            if item[1] <= 25:\n",
    "             print(item,'large letter')\n",
    "\n",
    "\n",
    "    else:\n",
    "        print(item, 'parcel')"
   ]
  },
  {
   "cell_type": "code",
   "execution_count": 108,
   "metadata": {},
   "outputs": [
    {
     "name": "stdout",
     "output_type": "stream",
     "text": [
      "Your name is: Edmun\n"
     ]
    }
   ],
   "source": [
    "def name(your_name):\n",
    "    print(f'Your name is: {your_name}')\n",
    "    \n",
    "name('Edmun')"
   ]
  },
  {
   "cell_type": "code",
   "execution_count": 128,
   "metadata": {},
   "outputs": [
    {
     "data": {
      "text/plain": [
       "144"
      ]
     },
     "execution_count": 128,
     "metadata": {},
     "output_type": "execute_result"
    }
   ],
   "source": [
    "def square(x):\n",
    "    squared_number = x ** 2\n",
    "    return(squared_number)\n",
    "\n",
    "square(12)"
   ]
  },
  {
   "cell_type": "code",
   "execution_count": 127,
   "metadata": {},
   "outputs": [
    {
     "data": {
      "text/plain": [
       "'EDMUN'"
      ]
     },
     "execution_count": 127,
     "metadata": {},
     "output_type": "execute_result"
    }
   ],
   "source": [
    "#to change a string to upper case\n",
    "def upper(name):\n",
    "    upper_case = name.upper()\n",
    "    return(upper_case)\n",
    "\n",
    "name = 'edmun'\n",
    "upper(name)\n"
   ]
  },
  {
   "cell_type": "code",
   "execution_count": 132,
   "metadata": {},
   "outputs": [
    {
     "data": {
      "text/plain": [
       "('EDMUN', 'SANCHEZ')"
      ]
     },
     "execution_count": 132,
     "metadata": {},
     "output_type": "execute_result"
    }
   ],
   "source": [
    "def upper(first_name, last_name):\n",
    "    first = first_name.upper()\n",
    "    last = last_name.upper()\n",
    "    return (first,last)\n",
    "    \n",
    "name_1 = 'edmun'\n",
    "name_2 = 'sanchez'\n",
    "upper(name_1, name_2)"
   ]
  },
  {
   "cell_type": "code",
   "execution_count": 133,
   "metadata": {},
   "outputs": [
    {
     "name": "stdout",
     "output_type": "stream",
     "text": [
      "['Aaron', 'Amanda', 'Kelly']\n",
      "['Kelly', 'Amanda', 'Aaron']\n"
     ]
    }
   ],
   "source": [
    "#sort lists\n",
    "names = ['Kelly', 'Amanda', 'Aaron']\n",
    "names.sort()\n",
    "print(names)\n",
    "names.sort(reverse = True)\n",
    "print(names)"
   ]
  },
  {
   "cell_type": "code",
   "execution_count": 137,
   "metadata": {},
   "outputs": [
    {
     "name": "stdout",
     "output_type": "stream",
     "text": [
      "Hello World!\n",
      "Hello World!\n",
      "Hello World!\n",
      "Hello World!\n",
      "Hello World!\n"
     ]
    }
   ],
   "source": [
    "def print_five_times(statement):\n",
    "    for i in range(5):\n",
    "        print(statement)\n",
    "    return\n",
    "\n",
    "print_five_times('Hello World!')"
   ]
  },
  {
   "cell_type": "code",
   "execution_count": 136,
   "metadata": {},
   "outputs": [
    {
     "name": "stdout",
     "output_type": "stream",
     "text": [
      "Today is Tuesday\n",
      "Today is Tuesday\n",
      "Today is Tuesday\n",
      "Today is Tuesday\n",
      "Today is Tuesday\n"
     ]
    }
   ],
   "source": [
    "print_five_times('Today is Tuesday')"
   ]
  },
  {
   "cell_type": "code",
   "execution_count": 147,
   "metadata": {},
   "outputs": [
    {
     "name": "stdout",
     "output_type": "stream",
     "text": [
      "[654, 564, 87, 43, 65]\n"
     ]
    }
   ],
   "source": [
    "values = [4,3,5,7,654,564,87,43,65,7,3]\n",
    "\n",
    "def over_ten(distances):\n",
    "    long_distance =[]\n",
    "    for distance in distances:\n",
    "        if distance > 10:\n",
    "            long_distance.append(distance)\n",
    "    return(long_distance)\n",
    "\n",
    "long_distances = over_ten(values)\n",
    "print(long_distances)"
   ]
  },
  {
   "cell_type": "code",
   "execution_count": 148,
   "metadata": {},
   "outputs": [
    {
     "name": "stdout",
     "output_type": "stream",
     "text": [
      "[43, 32, 56, 76, 54, 432]\n"
     ]
    }
   ],
   "source": [
    "distance_tuple = (3,43,6,32,56,76,54,432)\n",
    "tuple_distances = over_ten(distance_tuple)\n",
    "print(tuple_distances)"
   ]
  },
  {
   "cell_type": "code",
   "execution_count": 181,
   "metadata": {},
   "outputs": [
    {
     "name": "stdout",
     "output_type": "stream",
     "text": [
      "[50, 24, 27, 28]\n",
      "[100, 55.199999999999996, 75.6, 56]\n"
     ]
    }
   ],
   "source": [
    "width = [10,4,3,4]\n",
    "length = [5,6,9,7]\n",
    "height = [2,2.3,2.8,2]\n",
    "\n",
    "def calculate_area(width, length):\n",
    "    area = []\n",
    "    for i in range(len(width)):    \n",
    "        area.append(width[i] * length[i])\n",
    "    return (area)\n",
    "\n",
    "room_area = calculate_area(width, length)\n",
    "print(room_area)\n",
    "\n",
    "def calculate_volume(width, length, height):\n",
    "    volume = []\n",
    "    for i in range(len(width)):    \n",
    "        volume.append(width[i] * length[i] * height[i])\n",
    "    return (volume)\n",
    "\n",
    "room_volume = calculate_volume(width, length, height)\n",
    "print(room_volume)"
   ]
  },
  {
   "cell_type": "code",
   "execution_count": 236,
   "metadata": {},
   "outputs": [
    {
     "name": "stdout",
     "output_type": "stream",
     "text": [
      "21.30394857667585\n",
      "31.09276951777941\n",
      "21.40309155766944\n",
      "[['harold', 24.609733700642796], ['iggie', 23.309053069719038], ['brenda', 21.40309155766944]]\n"
     ]
    }
   ],
   "source": [
    "#BMI calculator\n",
    "weight = 58\n",
    "height = 165\n",
    "BMI = weight / (height/100)**2\n",
    "print(BMI)\n",
    "\n",
    "#BMI calculator as a function\n",
    "mass = 55 #kg\n",
    "height = 1.33 #m\n",
    "def calculate_bmi(mass, height):\n",
    "    bmi = mass / (height ** 2)\n",
    "    return(bmi)\n",
    "print(calculate_bmi(mass,height))\n",
    "\n",
    "mass = [67, 56, 45]\n",
    "height = [1.65, 1.55, 1.45]\n",
    "name = ['harold', 'iggie', 'brenda']\n",
    "\n",
    "final_results =[]\n",
    "for i in range(len(mass)):\n",
    "    bmi = calculate_bmi(mass[i], height[i])\n",
    "    result = [name[i], bmi]\n",
    "    final_results.append(result)\n",
    "print(bmi)\n",
    "print(final_results)\n",
    "\n"
   ]
  },
  {
   "cell_type": "code",
   "execution_count": 227,
   "metadata": {},
   "outputs": [
    {
     "name": "stdout",
     "output_type": "stream",
     "text": [
      "You BMI is 21.30394857667585\n"
     ]
    }
   ],
   "source": [
    "#BMI calculator 2\n",
    "height = float(input(\"Enter your height in cm: \")) \n",
    "weight = float(input(\"Enter your weight in kg: \"))\n",
    "BMI = weight / (height/100)**2.\n",
    "print(f\"You BMI is {BMI}\")"
   ]
  },
  {
   "cell_type": "code",
   "execution_count": 239,
   "metadata": {},
   "outputs": [
    {
     "name": "stdout",
     "output_type": "stream",
     "text": [
      "2\n"
     ]
    }
   ],
   "source": [
    "def add(num_1, num_2):\n",
    "    result = int(num_1) + int(num_2)\n",
    "    return(result)   \n",
    "\n",
    "choice = input('Do you want to calculate again? True or False: ')\n",
    "while choice == 'True':\n",
    "    operator = (input('Please enter the operator you wish to use: '))\n",
    "    num_1 = int(input('Please enter a value for number 1: '))\n",
    "    num_2 = int(input('Please enter a vlaue for number 2: '))\n",
    "\n",
    "    if operator == '*' or operator == 'x':\n",
    "        result = (num_1) * (num_2)\n",
    "        print(f'{num_1} times {num_2} is {result}')\n",
    "    elif operator == '+':\n",
    "        result = add(num_1, num_2)\n",
    "    elif operator == '-':\n",
    "        result = num_1 - num_2\n",
    "        print(f'{num_1} minus {num_2} is {result}')\n",
    "    elif operator == '/':\n",
    "        result = num_1 / num_2\n",
    "        print(f'{num_1} divided by {num_2} is {result}')\n",
    "    else:\n",
    "        result = 'Please type in a valid operator'\n",
    "    print(result)    \n",
    "    choice = input('Do you want to calculate again? True or False: ')"
   ]
  },
  {
   "cell_type": "code",
   "execution_count": 252,
   "metadata": {},
   "outputs": [
    {
     "data": {
      "text/plain": [
       "'royal_mail'"
      ]
     },
     "execution_count": 252,
     "metadata": {},
     "output_type": "execute_result"
    }
   ],
   "source": [
    "#JSON Parser\n",
    "postage = {\"id\":\"size_and_weight_guide\",\"company\":\"royal_mail\",\"options\":\"letters_and_parcels\", \"format\":[{\"type\":\"letter\",\"weight\":0.1,\"length\":24,\"width\":16.5,\"depth\":0.5},{\"type\":\"large_letter\",\"weight\":0.75,\"length\":35.3,\"width\":25,\"depth\":2.5},{\"type\":\"small_parcel\",\"weight\":2,\"length\":45,\"width\":35,\"depth\":16},{\"type\":\"medium_parcel\",\"weight\":20,\"length\":61,\"width\":46,\"depth\":46}]}\n",
    "\n",
    "postage['company']"
   ]
  },
  {
   "cell_type": "code",
   "execution_count": 250,
   "metadata": {},
   "outputs": [
    {
     "data": {
      "text/plain": [
       "'letter'"
      ]
     },
     "execution_count": 250,
     "metadata": {},
     "output_type": "execute_result"
    }
   ],
   "source": [
    "postage['format'][0]['type']"
   ]
  },
  {
   "cell_type": "code",
   "execution_count": 272,
   "metadata": {},
   "outputs": [
    {
     "name": "stdout",
     "output_type": "stream",
     "text": [
      "['letter']\n"
     ]
    }
   ],
   "source": [
    "#setting up the list\n",
    "item_1 = postage['format'][0]['type']\n",
    "measurement_list =[]\n",
    "measurement_list.append(item_1)\n",
    "print(measurement_list)"
   ]
  },
  {
   "cell_type": "code",
   "execution_count": 301,
   "metadata": {},
   "outputs": [
    {
     "name": "stdout",
     "output_type": "stream",
     "text": [
      "['letter', 0.1, 24, 16.5, 0.5]\n",
      "[['letter', 0.1, 24, 16.5, 0.5], ['large_letter', 0.75, 35.3, 25, 2.5], ['small_parcel', 2, 45, 35, 16], ['medium_parcel', 20, 61, 46, 46]]\n"
     ]
    },
    {
     "data": {
      "text/plain": [
       "4"
      ]
     },
     "execution_count": 301,
     "metadata": {},
     "output_type": "execute_result"
    }
   ],
   "source": [
    "#turning the whole thing into a list\n",
    "post = postage['format'][0]\n",
    "\n",
    "def extract_measurements(post):\n",
    "    measurement_list = []\n",
    "    measurement_list.append(post['type'])\n",
    "    measurement_list.append(post['weight'])\n",
    "    measurement_list.append(post['length'])\n",
    "    measurement_list.append(post['width'])\n",
    "    measurement_list.append(post['depth'])\n",
    "    return(measurement_list)\n",
    "measurement_list = extract_measurements(post)\n",
    "print(measurement_list)\n",
    "\n",
    "data_list =[]\n",
    "for i in range(len(postage['format'])):\n",
    "    post = postage['format'][i]\n",
    "    measurements = extract_measurements(post)\n",
    "    data_list.append(measurements)\n",
    "print(data_list)\n",
    "\n",
    "len(postage['format'])\n"
   ]
  },
  {
   "cell_type": "code",
   "execution_count": 184,
   "metadata": {},
   "outputs": [
    {
     "name": "stdout",
     "output_type": "stream",
     "text": [
      "27\n",
      "27\n"
     ]
    }
   ],
   "source": [
    "number = 3\n",
    "cubed = number ** 3\n",
    "print(cubed)\n",
    "\n",
    "#OR\n",
    "    \n",
    "def cube(x):\n",
    "    cubed_number = x ** 3\n",
    "    return(cubed_number)\n",
    "\n",
    "cubed_number = cube(3)\n",
    "print(cubed_number)\n"
   ]
  },
  {
   "cell_type": "code",
   "execution_count": 19,
   "metadata": {},
   "outputs": [
    {
     "name": "stdout",
     "output_type": "stream",
     "text": [
      "343\n",
      "216\n",
      "64\n",
      "27\n",
      "216\n",
      "64\n"
     ]
    }
   ],
   "source": [
    "def cube(x):\n",
    "    for i in range(len(x)):\n",
    "        #cubed_number = x ** 3\n",
    "        #print(i, x[i]) make this line to make sure the code works then comment it out\n",
    "        print(x[i] **3)\n",
    "    return()\n",
    "\n",
    "my_list = [7,6,4,3,6,4]\n",
    "cubed = cube(my_list)\n"
   ]
  },
  {
   "cell_type": "code",
   "execution_count": 24,
   "metadata": {},
   "outputs": [
    {
     "name": "stdout",
     "output_type": "stream",
     "text": [
      "[343, 216, 64, 27, 216, 64]\n"
     ]
    }
   ],
   "source": [
    "def cube(x):\n",
    "    answer=[]\n",
    "    for i in range(len(x)):\n",
    "        #cubed_number = x ** 3\n",
    "        #print(i, x[i]) make this line to make sure the code works then comment it out\n",
    "        #print(x[i] **3)\n",
    "        answer.append(x[i] ** 3)\n",
    "\n",
    "    return(answer)\n",
    "\n",
    "my_list = [7,6,4,3,6,4]\n",
    "cubed = cube(my_list)\n",
    "print(cubed)"
   ]
  },
  {
   "cell_type": "code",
   "execution_count": 25,
   "metadata": {},
   "outputs": [
    {
     "name": "stdout",
     "output_type": "stream",
     "text": [
      "3.141592653589793\n",
      "9\n"
     ]
    }
   ],
   "source": [
    "import math\n",
    "\n",
    "print(math.pi)\n",
    "print(math.trunc(9.90128573)) #trunc deletes the decimal part"
   ]
  },
  {
   "cell_type": "code",
   "execution_count": 30,
   "metadata": {},
   "outputs": [
    {
     "name": "stdout",
     "output_type": "stream",
     "text": [
      "0.699526743241792\n"
     ]
    }
   ],
   "source": [
    "import random\n",
    "print(random.random())"
   ]
  },
  {
   "cell_type": "code",
   "execution_count": 88,
   "metadata": {},
   "outputs": [
    {
     "ename": "TypeError",
     "evalue": "'module' object is not callable",
     "output_type": "error",
     "traceback": [
      "\u001b[1;31m---------------------------------------------------------------------------\u001b[0m",
      "\u001b[1;31mTypeError\u001b[0m                                 Traceback (most recent call last)",
      "\u001b[1;32mc:\\Users\\Edmun\\Documents\\Firebrand Training\\Python\\Day1_Labs.ipynb Cell 45'\u001b[0m in \u001b[0;36m<module>\u001b[1;34m\u001b[0m\n\u001b[0;32m      <a href='vscode-notebook-cell:/c%3A/Users/Edmun/Documents/Firebrand%20Training/Python/Day1_Labs.ipynb#ch0000045?line=0'>1</a>\u001b[0m \u001b[39mimport\u001b[39;00m \u001b[39mrandom\u001b[39;00m\n\u001b[1;32m----> <a href='vscode-notebook-cell:/c%3A/Users/Edmun/Documents/Firebrand%20Training/Python/Day1_Labs.ipynb#ch0000045?line=1'>2</a>\u001b[0m \u001b[39mprint\u001b[39m(random())\n\u001b[0;32m      <a href='vscode-notebook-cell:/c%3A/Users/Edmun/Documents/Firebrand%20Training/Python/Day1_Labs.ipynb#ch0000045?line=3'>4</a>\u001b[0m \u001b[39mimport\u001b[39;00m \u001b[39mmatplotlib\u001b[39;00m\u001b[39m.\u001b[39;00m\u001b[39mpyplot\u001b[39;00m \u001b[39mas\u001b[39;00m \u001b[39mplt\u001b[39;00m\n\u001b[0;32m      <a href='vscode-notebook-cell:/c%3A/Users/Edmun/Documents/Firebrand%20Training/Python/Day1_Labs.ipynb#ch0000045?line=4'>5</a>\u001b[0m \u001b[39mfrom\u001b[39;00m \u001b[39mmatplotlib\u001b[39;00m\u001b[39m.\u001b[39;00m\u001b[39mpyplot\u001b[39;00m \u001b[39mimport\u001b[39;00m \u001b[39m*\u001b[39m\n",
      "\u001b[1;31mTypeError\u001b[0m: 'module' object is not callable"
     ]
    }
   ],
   "source": [
    "import random\n",
    "print(random())\n",
    "\n",
    "import matplotlib.pyplot as plt\n",
    "from matplotlib.pyplot import *\n",
    "\n",
    "\n",
    "data = random.sample(range(10,30),10)\n",
    "print(data)\n",
    "plt.hist(data)"
   ]
  },
  {
   "cell_type": "code",
   "execution_count": 40,
   "metadata": {},
   "outputs": [
    {
     "name": "stdout",
     "output_type": "stream",
     "text": [
      "Hello, Edmun\n"
     ]
    }
   ],
   "source": [
    "#custom written module, it's a function you have written saved to an external .py file\n",
    "def my_function(name):\n",
    "    print(f'Hello, {name}')\n",
    "    return\n",
    "\n",
    "my_function('Edmun')"
   ]
  },
  {
   "cell_type": "code",
   "execution_count": 44,
   "metadata": {},
   "outputs": [
    {
     "name": "stdout",
     "output_type": "stream",
     "text": [
      "Hello my name is Edmun and I was born on a Wednesday\n",
      "Hello my name is John and I was born on a Monday\n"
     ]
    }
   ],
   "source": [
    "class Person:\n",
    "    def __init__(self, name, day): #create a constructor using __init__\n",
    "        self.name = name\n",
    "        self.day = day\n",
    "    def create_name(self):\n",
    "        print('Hello my name is ' + self.name + \\\n",
    "            ' and I was born on a ' + self.day)\n",
    "\n",
    "person_1 = Person('Edmun', 'Wednesday')\n",
    "person_1.create_name()\n",
    "\n",
    "person_2 = Person('John', 'Monday')\n",
    "person_2.create_name()"
   ]
  },
  {
   "cell_type": "code",
   "execution_count": 135,
   "metadata": {},
   "outputs": [
    {
     "name": "stdout",
     "output_type": "stream",
     "text": [
      "[]\n",
      "[7]\n",
      "[3, 7]\n",
      "[4, 3, 7]\n",
      "[5, 4, 3, 7]\n",
      "[6, 5, 4, 3, 7]\n",
      "[7, 6, 5, 4, 3, 7]\n"
     ]
    }
   ],
   "source": [
    "class RecentlyUsed:\n",
    "    def __init__(self):\n",
    "        self.items = list()\n",
    "    def add_item(self, item):\n",
    "        self.items.insert(0, item) #insert in postion 0/at at the top of the list\n",
    "        \n",
    "my_list = RecentlyUsed()\n",
    "print(my_list.items)\n",
    "#create the objects\n",
    "i = 7\n",
    "my_list.add_item(i)\n",
    "print(my_list.items)\n",
    "\n",
    "for i in (3,4,5,6,7):\n",
    "    my_list.add_item(i)\n",
    "    print(my_list.items)"
   ]
  },
  {
   "cell_type": "code",
   "execution_count": 155,
   "metadata": {},
   "outputs": [
    {
     "name": "stdout",
     "output_type": "stream",
     "text": [
      "[]\n",
      "[3]\n",
      "[4, 3]\n",
      "[5, 4, 3]\n",
      "[3, 5, 4]\n",
      "[6, 3, 5]\n",
      "[7, 6, 3]\n"
     ]
    }
   ],
   "source": [
    "class RecentlyUsed:\n",
    "  def __init__(self):\n",
    "    self.items = list()\n",
    "  # function inside a class called method\n",
    "  def add_item(self, item):\n",
    "    # it it's not in the list add it in\n",
    "    if not(item in self.items):\n",
    "      self.items.insert(0, item)\n",
    "    else:\n",
    "      # remove curent existance of value\n",
    "      self.items.remove(item)\n",
    "      # add it in at the top of the list\n",
    "      self.items.insert(0, item)\n",
    "    # cut list down to 3\n",
    "    if len(self.items) > 3:\n",
    "      self.items = self.items[0:3]\n",
    "my_list = RecentlyUsed()\n",
    "print(my_list.items)\n",
    "# create the objects\n",
    "for i in (3,4,5,3,6,7):\n",
    "  my_list.add_item(i)\n",
    "  print(my_list.items)"
   ]
  },
  {
   "cell_type": "code",
   "execution_count": 125,
   "metadata": {},
   "outputs": [
    {
     "name": "stdout",
     "output_type": "stream",
     "text": [
      "[8]\n",
      "[4, 8]\n",
      "[32, 4, 8]\n",
      "[3, 32, 4]\n",
      "[5, 3, 32]\n",
      "[2, 5, 3]\n",
      "[3, 2, 5]\n",
      "[5, 3, 2]\n"
     ]
    }
   ],
   "source": [
    "class RecentlyUsed:\n",
    "    def __init__(self):\n",
    "        self.items = list()\n",
    "    def add_item(self, item):\n",
    "        self.items.insert(0, item) #insert in postion 0/at at the top of the list\n",
    "    #cut list down to 3\n",
    "        if len(self.items) > 3:\n",
    "            self.items = self.items[:3]\n",
    "\n",
    "my_list = RecentlyUsed()\n",
    "\n",
    "for i in (8,4,32,3,5,2,3,5):\n",
    "    my_list.add_item(i)\n",
    "    print(my_list.items)"
   ]
  },
  {
   "cell_type": "code",
   "execution_count": 83,
   "metadata": {},
   "outputs": [
    {
     "name": "stdout",
     "output_type": "stream",
     "text": [
      "[8]\n",
      "[4, 8]\n",
      "[32, 4, 8]\n",
      "[3, 32, 4]\n",
      "[3, 32, 4]\n",
      "[5, 3, 32]\n",
      "[3, 5, 32]\n",
      "[2, 3, 5]\n",
      "[3, 2, 5]\n",
      "[5, 3, 2]\n"
     ]
    }
   ],
   "source": [
    "class RecentlyUsed:\n",
    "    def __init__(self):\n",
    "        self.items = list()\n",
    "    def add_item(self, item):\n",
    "        # if item not in list add it in\n",
    "        if not (item in self.items):\n",
    "            self.items.insert(0,item) #insert in postion 0/at at the top of the list\n",
    "        else:\n",
    "            #remove current existance of value\n",
    "            self.items.remove(item)\n",
    "            #add it to the top of list\n",
    "            self.items.insert(0,item)\n",
    "    #cut list down to 3\n",
    "        if len(self.items) > 3:\n",
    "            self.items = self.items[:3]\n",
    "\n",
    "my_list = RecentlyUsed()\n",
    "\n",
    "for i in (8,4,32,3,3,5,3,2,3,5):\n",
    "    my_list.add_item(i)\n",
    "    print(my_list.items)"
   ]
  },
  {
   "cell_type": "code",
   "execution_count": 119,
   "metadata": {},
   "outputs": [
    {
     "name": "stdout",
     "output_type": "stream",
     "text": [
      "James is a member of Green Day  and plays the guitar\n",
      "John is a member of The Script  and plays the drums\n"
     ]
    }
   ],
   "source": [
    "class Band:\n",
    "    def __init__(member, name, band, instrument): #create a constructor using __init__\n",
    "        member.name = name \n",
    "        member.band = band\n",
    "        member.instrument = instrument\n",
    "    def create_name(member):\n",
    "        print(member.name+ ' is a member of ' + member.band, \\\n",
    "            ' and plays the ' + member.instrument)\n",
    "\n",
    "person_1 = Band('James','Green Day', 'guitar')\n",
    "person_1.create_name()\n",
    "\n",
    "person_2 = Band('John', 'The Script', 'drums')\n",
    "person_2.create_name()"
   ]
  },
  {
   "cell_type": "code",
   "execution_count": 144,
   "metadata": {},
   "outputs": [
    {
     "name": "stdout",
     "output_type": "stream",
     "text": [
      "The original list is : [1, 2, 3, 4, 5, 6, 7, 8, 9, 10]\n",
      "The shuffled list is : [3, 7, 1, 6, 5, 9, 10, 2, 8, 4]\n"
     ]
    }
   ],
   "source": [
    "#create a list of 10 songs\n",
    "import random\n",
    "songs = list([1,2,3,4,5,6,7,8,9,10])\n",
    "\n",
    "# Printing original list\n",
    "print (\"The original list is : \" + str(songs))\n",
    "\n",
    "# using Fisher–Yates shuffle Algorithm to shuffle a list\n",
    "for i in range(len(songs)-1, 0, -1):\n",
    "\n",
    "# Pick a random index from 0 to i\n",
    "    j = random.randint(0, i + 1)\n",
    "   \n",
    "    # Swap arr[i] with the element at random index\n",
    "    songs[i], songs[j] = songs[j], songs[i]\n",
    "     \n",
    "# Printing shuffled list\n",
    "print (\"The shuffled list is : \" +  str(songs))"
   ]
  },
  {
   "cell_type": "code",
   "execution_count": 167,
   "metadata": {},
   "outputs": [
    {
     "name": "stdout",
     "output_type": "stream",
     "text": [
      "1\n",
      "1\n",
      "1\n"
     ]
    }
   ],
   "source": [
    "#create a list of 10 songs\n",
    "song_list = [1,2,3,4,5,6,7,8,9,10]\n",
    "class SongShuffler:\n",
    "        def __init__(self, song_list):\n",
    "        #import song list\n",
    "                self.list = song_list\n",
    "        def play_song(self):\n",
    "        #print played song\n",
    "            played_song = self.list[0]\n",
    "            print(played_song)\n",
    "\n",
    "my_shuffler = SongShuffler(song_list)\n",
    "my_shuffler.play_song()\n",
    "my_shuffler.play_song()\n",
    "my_shuffler.play_song()"
   ]
  },
  {
   "cell_type": "code",
   "execution_count": 173,
   "metadata": {},
   "outputs": [
    {
     "name": "stdout",
     "output_type": "stream",
     "text": [
      "1\n",
      "[2, 3, 4, 5, 6, 7, 8, 1, 9, 10]\n",
      "2\n",
      "[3, 4, 5, 6, 2, 7, 8, 1, 9, 10]\n",
      "3\n",
      "[4, 5, 6, 2, 7, 8, 1, 3, 9, 10]\n",
      "4\n",
      "[5, 6, 2, 7, 8, 1, 3, 9, 4, 10]\n",
      "5\n",
      "[6, 2, 7, 8, 1, 3, 9, 5, 4, 10]\n",
      "6\n",
      "[6, 2, 7, 8, 1, 3, 9, 5, 4, 10]\n",
      "6\n",
      "[2, 7, 8, 1, 3, 9, 5, 4, 6, 10]\n",
      "2\n",
      "[7, 8, 2, 1, 3, 9, 5, 4, 6, 10]\n",
      "7\n",
      "[7, 8, 2, 1, 3, 9, 5, 4, 6, 10]\n",
      "7\n",
      "[7, 8, 2, 1, 3, 9, 5, 4, 6, 10]\n"
     ]
    }
   ],
   "source": [
    "#create a list of 10 songs\n",
    "song_list = [1,2,3,4,5,6,7,8,9,10]\n",
    "\n",
    "import random\n",
    "class SongShuffler:\n",
    "        def __init__(self, song_list):\n",
    "        #import song list\n",
    "                self.list = song_list\n",
    "        def play_song(self):\n",
    "            #print played song\n",
    "            played_song = self.list[0]\n",
    "            print(played_song)\n",
    "            #remove played song\n",
    "            self.list = self.list[1:]\n",
    "            #put played song into list \n",
    "            rand_num = random.randrange(0,9)\n",
    "            self.list.insert(rand_num, played_song)\n",
    "            #print out list\n",
    "            print(self.list)\n",
    "\n",
    "my_shuffler = SongShuffler(song_list)\n",
    "for i in range(len(song_list)):\n",
    "    my_shuffler.play_song()"
   ]
  },
  {
   "cell_type": "code",
   "execution_count": 177,
   "metadata": {},
   "outputs": [
    {
     "name": "stdout",
     "output_type": "stream",
     "text": [
      "1\n",
      "[2, 3, 4, 5, 1, 6, 7, 8, 9, 10]\n",
      "2\n",
      "[3, 4, 5, 1, 6, 2, 7, 8, 9, 10]\n",
      "3\n",
      "[4, 5, 1, 6, 3, 2, 7, 8, 9, 10]\n",
      "4\n",
      "[5, 1, 6, 3, 2, 7, 8, 9, 4, 10]\n",
      "5\n",
      "[1, 6, 3, 2, 7, 8, 9, 5, 4, 10]\n",
      "1\n",
      "[6, 3, 2, 7, 8, 1, 9, 5, 4, 10]\n",
      "6\n",
      "[3, 2, 7, 8, 1, 6, 9, 5, 4, 10]\n",
      "3\n",
      "[2, 7, 8, 1, 6, 3, 9, 5, 4, 10]\n",
      "2\n",
      "[7, 8, 1, 6, 3, 9, 2, 5, 4, 10]\n",
      "7\n",
      "[8, 1, 6, 3, 9, 2, 7, 5, 4, 10]\n"
     ]
    }
   ],
   "source": [
    "#create a list of 10 songs\n",
    "song_list = [1,2,3,4,5,6,7,8,9,10]\n",
    "\n",
    "import random\n",
    "class SongShuffler:\n",
    "        def __init__(self, song_list):\n",
    "        #import song list\n",
    "                self.list = song_list\n",
    "        def play_song(self):\n",
    "            #print played song\n",
    "            played_song = self.list[0]\n",
    "            print(played_song)\n",
    "            #remove played song\n",
    "            self.list = self.list[1:]\n",
    "            #put played song into list \n",
    "            rand_num = random.randrange(len(self.list)//2, len(self.list))\n",
    "            self.list.insert(rand_num, played_song)\n",
    "            #print out list\n",
    "            print(self.list)\n",
    "\n",
    "my_shuffler = SongShuffler(song_list)\n",
    "for i in range(len(song_list)):\n",
    "    my_shuffler.play_song()"
   ]
  },
  {
   "cell_type": "code",
   "execution_count": 183,
   "metadata": {},
   "outputs": [
    {
     "name": "stdout",
     "output_type": "stream",
     "text": [
      "\n",
      "    Summary and description\n",
      "    Explain what the function does\n",
      "    Arguments - type and description\n",
      "    Return values - type and description\n",
      "    \n"
     ]
    }
   ],
   "source": [
    "#doc string\n",
    "def my_function(arguments):\n",
    "    \"\"\"\n",
    "    Summary and description\n",
    "    Explain what the function does\n",
    "    Arguments - type and description\n",
    "    Return values - type and description\n",
    "    \"\"\"\n",
    "    return(data)\n",
    "\n",
    "print(my_function.__doc__)    "
   ]
  },
  {
   "cell_type": "code",
   "execution_count": 192,
   "metadata": {},
   "outputs": [],
   "source": [
    "def cube(x):\n",
    "    \"\"\"\n",
    "Returns the cube of a number\n",
    "\n",
    "This function takes a number a perfoms the\n",
    "mathematical operation cube. It returns the cube of \n",
    "    the input\n",
    "    \n",
    "    INPUTS\n",
    "    x - python list containing integers or floats\n",
    "        the are the numbers that will be cubed\n",
    "    \n",
    "    RETURNS\n",
    "    answer - python list containing integers or floats.\n",
    "             These are the cube of the input numbers\n",
    "    \"\"\"\n",
    "    answer = []\n",
    "    for i in range(len(x)):\n",
    "        answer.append(x[i] ** 3)\n",
    "\n",
    "    return(answer)"
   ]
  },
  {
   "cell_type": "code",
   "execution_count": 190,
   "metadata": {},
   "outputs": [
    {
     "name": "stdout",
     "output_type": "stream",
     "text": [
      "\n",
      "    Returns the cube of a number\n",
      "\n",
      "    This function takes a number a perfoms the\n",
      "    mathematical operation cube. It returns the cube of \n",
      "    the input\n",
      "    \n",
      "    INPUTS\n",
      "    x - python list containing integers or floats\n",
      "        the are the numbers that will be cubed\n",
      "    \n",
      "    RETURNS\n",
      "    answer - python list containing integers or floats.\n",
      "             These are the cube of the input numbers\n",
      "    \n"
     ]
    }
   ],
   "source": [
    "print(cube.__doc__)"
   ]
  },
  {
   "cell_type": "code",
   "execution_count": 7,
   "metadata": {},
   "outputs": [
    {
     "name": "stdout",
     "output_type": "stream",
     "text": [
      "\u001b[33mhello\u001b[0m\n"
     ]
    }
   ],
   "source": [
    "from termcolor import colored\n",
    "\n",
    "color = input('What is your favorite color: ')\n",
    "print(colored('hello', color))\n",
    "\n"
   ]
  },
  {
   "cell_type": "code",
   "execution_count": 20,
   "metadata": {},
   "outputs": [
    {
     "name": "stdout",
     "output_type": "stream",
     "text": [
      "\u001b[1m\u001b[47m\u001b[33myellow\u001b[0m\n"
     ]
    }
   ],
   "source": [
    "def print_color(color):\n",
    "    '''\n",
    "    This is a doc-string for the code\n",
    "    '''\n",
    "    # import term color\n",
    "    from termcolor import colored\n",
    "    #print out colored text\n",
    "    print(colored(color, color, 'on_white', attrs=['bold']))\n",
    "    return    \n",
    "\n",
    "#user input favourite color\n",
    "color = input('What is your favourite color')\n",
    "print_color(color)"
   ]
  },
  {
   "cell_type": "code",
   "execution_count": 58,
   "metadata": {},
   "outputs": [
    {
     "name": "stdout",
     "output_type": "stream",
     "text": [
      ". . . . . . . . . . . . . . . . . . . . \n",
      ". . . . . . . . . . . . . . . . . . . . \n",
      ". . . . . . . . . . . . . . . . . . . . \n",
      ". . . . . . . . . . . . . . . . . . . . \n",
      ". . . . . . . . . . . . . . . . . . . . \n",
      ". . . . . . . . . . . . . . . . . . . . \n",
      ". . . . . . . . . . . . . . . . . . . . \n",
      ". . . . . . . . . . . . . . . . . . . . \n",
      ". . . . . . . . . . . . . . . . . . . . \n",
      ". . . . . . . . . . . . . . . . . . . . \n"
     ]
    }
   ],
   "source": [
    "#draw a 10x20 square with a nested for loop\n",
    "\n",
    "for y in range(10): #rows\n",
    "    for x in range(10): #coloumns\n",
    "            print('. . ', end='')\n",
    "\n",
    "    print('')"
   ]
  },
  {
   "cell_type": "code",
   "execution_count": 62,
   "metadata": {},
   "outputs": [
    {
     "ename": "SyntaxError",
     "evalue": "invalid syntax. Perhaps you forgot a comma? (3006617197.py, line 9)",
     "output_type": "error",
     "traceback": [
      "\u001b[1;36m  Input \u001b[1;32mIn [62]\u001b[1;36m\u001b[0m\n\u001b[1;33m    print('..'. end'')\u001b[0m\n\u001b[1;37m          ^\u001b[0m\n\u001b[1;31mSyntaxError\u001b[0m\u001b[1;31m:\u001b[0m invalid syntax. Perhaps you forgot a comma?\n"
     ]
    }
   ],
   "source": [
    "#draw a quarter of a circle\n",
    "\n",
    "size = 10\n",
    "\n",
    "for y in range(size): #rows\n",
    "    for x in range(size): #coloumns\n",
    "        r = (x*x + y*y) ** 0.5\n",
    "    if r < size:\n",
    "        print('..'. end'')\n",
    "    else:\n",
    "        print(' ', end = '')\n",
    "\n",
    "    print('')"
   ]
  },
  {
   "cell_type": "code",
   "execution_count": 70,
   "metadata": {},
   "outputs": [
    {
     "name": "stdout",
     "output_type": "stream",
     "text": [
      ".......................................................\n",
      "........................................................\n",
      "........................................................\n",
      ".........................................................\n",
      ".........................................................\n",
      "..........................................................\n",
      "..........................................................\n",
      "..........................................................\n",
      "...........................................................\n",
      "...........................................................\n",
      "...........................................................\n",
      "...........................................................\n",
      "............................................................\n",
      "............................................................\n",
      "............................................................\n",
      "............................................................\n",
      "............................................................\n",
      "............................................................\n",
      "............................................................\n",
      "............................................................\n",
      "............................................................\n",
      "............................................................\n",
      "............................................................\n",
      "............................................................\n",
      "............................................................\n",
      "............................................................\n",
      "............................................................\n",
      "............................................................\n",
      "............................................................\n",
      "...........................................................\n",
      "...........................................................\n",
      "...........................................................\n",
      "...........................................................\n",
      "..........................................................\n",
      "..........................................................\n",
      "..........................................................\n",
      ".........................................................\n",
      ".........................................................\n",
      "........................................................\n",
      "........................................................\n",
      ".......................................................\n",
      ".......................................................\n",
      "......................................................\n",
      ".....................................................\n",
      "....................................................\n",
      "....................................................\n",
      "...................................................\n",
      "..................................................\n",
      ".................................................\n",
      "................................................\n",
      "...............................................\n",
      "..............................................\n",
      "............................................\n",
      "...........................................\n",
      "..........................................\n",
      ".......................................\n",
      "...................................\n",
      "...............................\n",
      ".........................\n",
      ".................\n",
      "\n"
     ]
    }
   ],
   "source": [
    "#draw a quarter of a circle\n",
    "\n",
    "size_start = -20\n",
    "size_end = 41\n",
    "size = 40\n",
    "\n",
    "for y in range(size_start, size_end): \n",
    "    for x in range(size_start, size_end):\n",
    "        r = (x*x + y*y) ** 0.5\n",
    "        if r < size:\n",
    "            print('.', end = '')\n",
    "        else:\n",
    "            print('', end = '')\n",
    "\n",
    "    print('')"
   ]
  },
  {
   "cell_type": "code",
   "execution_count": 78,
   "metadata": {},
   "outputs": [
    {
     "name": "stdout",
     "output_type": "stream",
     "text": [
      "This is my new file.\n",
      "\n"
     ]
    }
   ],
   "source": [
    "#File Handling\n",
    "\n",
    "my_file = open('python_test.txt', 'w') #create a file, w to write to the file\n",
    "my_file.write('This is my new file.\\n') #write to the file\n",
    "my_file.close() #close the file\n",
    "\n",
    "new_file = open('python_test.txt', 'r') #r to read the file\n",
    "output = new_file.read() #save it to a variable name\n",
    "print(output) #print the variable\n",
    "new_file.close() #close the file\n",
    "\n",
    "new_file = open('python_test.txt', 'a') #a to append to the file\n",
    "new_file.write('second line.\\n')\n",
    "new_file.write('third line.\\n')\n",
    "new_file.close()"
   ]
  },
  {
   "cell_type": "code",
   "execution_count": null,
   "metadata": {},
   "outputs": [],
   "source": [
    "#Error\n",
    "\n",
    "name='edmun'\n",
    "try:\n",
    "    variable = name.upper()\n",
    "except NameError:\n",
    "    print('variable name not assigned')\n",
    "except AttributeError:\n",
    "    print('please enter a valid name')\n",
    "else:\n",
    "    print(variable)"
   ]
  },
  {
   "cell_type": "code",
   "execution_count": 80,
   "metadata": {},
   "outputs": [
    {
     "name": "stdout",
     "output_type": "stream",
     "text": [
      "written to file\n"
     ]
    }
   ],
   "source": [
    "f = open('python_test.txt', 'a')\n",
    "\n",
    "try:\n",
    "    f.write('some text\\n')\n",
    "except:\n",
    "    print('Failed to write to file')\n",
    "else:\n",
    "    print('written to file')\n",
    "finally:\n",
    "    f.close()    "
   ]
  },
  {
   "cell_type": "code",
   "execution_count": 89,
   "metadata": {},
   "outputs": [
    {
     "name": "stdout",
     "output_type": "stream",
     "text": [
      "5\n",
      "that was a valid integer\n",
      "invalid input\n",
      "invalid input\n"
     ]
    }
   ],
   "source": [
    "check = 'True'\n",
    "while check == 'True':\n",
    "    try:\n",
    "        x = input('enter an integer: ')\n",
    "        print(int(x))\n",
    "        int(x)\n",
    "    except:\n",
    "        print('invalid input')\n",
    "        check = input('Do you want to try again? True or False: ')\n",
    "    else:\n",
    "        print('that was a valid integer')\n",
    "        check = input('Do you want to try again? True or False: ')  \n"
   ]
  },
  {
   "cell_type": "code",
   "execution_count": 93,
   "metadata": {},
   "outputs": [
    {
     "name": "stdout",
     "output_type": "stream",
     "text": [
      "4\n"
     ]
    }
   ],
   "source": [
    "def times_two(x):\n",
    "    answer = x * 2\n",
    "    return(answer)\n",
    "\n",
    "answer = times_two(2)\n",
    "print(answer)    "
   ]
  },
  {
   "cell_type": "code",
   "execution_count": 94,
   "metadata": {},
   "outputs": [
    {
     "data": {
      "text/plain": [
       "()"
      ]
     },
     "execution_count": 94,
     "metadata": {},
     "output_type": "execute_result"
    }
   ],
   "source": [
    "def test_times_two():\n",
    "    assert times_two(3) == 6\n",
    "    return()\n",
    "\n",
    "test_times_two()"
   ]
  },
  {
   "cell_type": "code",
   "execution_count": 106,
   "metadata": {},
   "outputs": [],
   "source": [
    "def is_leap_year(year):\n",
    "\n",
    "  is_divisible_by_4 = (year%4)==0\n",
    "\n",
    "  is_divisible_by_100 = (year%100)==0\n",
    "  is_divisible_by_400 = (year%400)==0\n",
    "\n",
    "  return \\\n",
    "    is_divisible_by_4 and \\\n",
    "    (is_divisible_by_400 or not is_divisible_by_100)"
   ]
  },
  {
   "cell_type": "code",
   "execution_count": 110,
   "metadata": {},
   "outputs": [
    {
     "name": "stdout",
     "output_type": "stream",
     "text": [
      "Writing test_leap_year.py\n"
     ]
    }
   ],
   "source": [
    "%%file test_leap_year.py\n",
    "import leap_year\n",
    "def test_multiples_of_four_are_leap_years():\n",
    "    assert is_leap_year(4) == True\n",
    "def test_years_not_divisible_by_four_are_not_leap_years():\n",
    "    assert is_leap_year(3) == False"
   ]
  },
  {
   "cell_type": "code",
   "execution_count": 15,
   "metadata": {},
   "outputs": [
    {
     "name": "stdout",
     "output_type": "stream",
     "text": [
      "9\n"
     ]
    }
   ],
   "source": [
    "import math\n",
    "print(math.trunc(9.98))"
   ]
  },
  {
   "cell_type": "code",
   "execution_count": 13,
   "metadata": {},
   "outputs": [
    {
     "name": "stdout",
     "output_type": "stream",
     "text": [
      "he\n"
     ]
    }
   ],
   "source": [
    "str=\"hello\"\n",
    "print(str[:2])"
   ]
  }
 ],
 "metadata": {
  "interpreter": {
   "hash": "2be5faf79681da6f2a61fdfdd5405d65d042280f7fba6178067603e3a2925119"
  },
  "kernelspec": {
   "display_name": "Python 3.10.2 64-bit",
   "name": "python3"
  },
  "language_info": {
   "codemirror_mode": {
    "name": "ipython",
    "version": 3
   },
   "file_extension": ".py",
   "mimetype": "text/x-python",
   "name": "python",
   "nbconvert_exporter": "python",
   "pygments_lexer": "ipython3",
   "version": "3.10.2"
  },
  "orig_nbformat": 4
 },
 "nbformat": 4,
 "nbformat_minor": 2
}
